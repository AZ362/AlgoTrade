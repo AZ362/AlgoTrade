{
 "cells": [
  {
   "cell_type": "code",
   "execution_count": null,
   "id": "68e6fa1f",
   "metadata": {},
   "outputs": [],
   "source": [
    "## Instrument and Time Frame setting\n",
    "symbol='XAUUSD'\n",
    "interval='1 h'\n",
    "\n",
    "######################## Backtesting Settings ########################\n",
    "## \n",
    "size= 0.99 # \n",
    "## Short and Long EMA setting\n",
    "short_ema= 14#49\n",
    "long_ema= 24#92\n",
    "\n",
    "## Trend EMA setting\n",
    "use_trend_ema= True\n",
    "trend_ema= 290\n",
    "\n",
    "\n",
    "## SL and TP Setting\n",
    "use_sl= False\n",
    "use_tp= False\n",
    "back_candles= 10\n",
    "reward= 1.5\n",
    "\n",
    "## ATR (not included so far)\n",
    "atr_level= 14\n",
    "\n",
    "## Optimization setting \n",
    "optimization= {'optimization':True\n",
    "              ,'short_ema':True, 'long_ema':True, 'trend_ema':True, 'back_candles':False, 'reward':False}\n",
    "maximize='Return [%]'  ## Max. Drawdown [%], Win Rate [%],  Sharpe Ratio, "
   ]
  },
  {
   "cell_type": "code",
   "execution_count": null,
   "id": "c5cab8ab",
   "metadata": {},
   "outputs": [],
   "source": [
    "from EMA_utils import *\n",
    "\n",
    "# Define the names of the directories to be created\n",
    "directories = ['Results', 'Results/PLOTS', 'Results/TRADES']\n",
    "\n",
    "# Loop through the directory names and create them if they don't exist\n",
    "for dir_name in directories:\n",
    "    # Construct the full path for the directory\n",
    "    full_path = os.path.join(dir_name)\n",
    "    # Check if the directory exists, and if not, create it\n",
    "    if not os.path.exists(full_path):\n",
    "        os.makedirs(full_path)\n",
    "        print(f\"Directory '{dir_name}' created at: {full_path}\")\n",
    "    else:\n",
    "        print(f\"Directory '{dir_name}' already exists at: {full_path}\")"
   ]
  },
  {
   "cell_type": "code",
   "execution_count": null,
   "id": "4d746e4b",
   "metadata": {},
   "outputs": [],
   "source": [
    "data_dir = 'DATA/data'\n",
    "file_name = f\"{symbol}_{interval}.csv\"\n",
    "file_path = os.path.join(data_dir, file_name)\n",
    "\n",
    "if os.path.isfile(file_path):\n",
    "    print(f\"Data file {file_name} already exists. Skipping download.\")\n",
    "    df= pd.read_csv(file_path)\n",
    "    df['time'] = pd.to_datetime(df['time'])  # Correct conversion\n",
    "    df = df.set_index('time')\n",
    "    df.columns = [\"Open\", \"High\", \"Low\", \"Close\", \"Volume\"]\n",
    "    #df = df.reset_index(drop=False)\n",
    "    print(df)\n",
    "else:\n",
    "    print(f'required data not fond.. download it before')"
   ]
  },
  {
   "cell_type": "code",
   "execution_count": null,
   "id": "bfd91dc6",
   "metadata": {
    "scrolled": false
   },
   "outputs": [],
   "source": [
    "input_df, stats,Trades, heatmap= ema_backtest_strategy(df[0:int(len(df)*0.8)], \n",
    "                                    symbol, interval,\n",
    "                                      size=size,\n",
    "                                      short_ema=short_ema,\n",
    "                                      long_ema=long_ema,\n",
    "                                      trend_ema= trend_ema, use_trend_ema=use_trend_ema,\n",
    "                                      atr_level=atr_level,\n",
    "                                      use_sl= use_sl, use_tp= use_tp, back_candles=back_candles, reward= reward,\n",
    "                                      optimization= optimization,\n",
    "                                      maximize=maximize)"
   ]
  },
  {
   "cell_type": "code",
   "execution_count": null,
   "id": "929e4e46",
   "metadata": {},
   "outputs": [],
   "source": []
  }
 ],
 "metadata": {
  "kernelspec": {
   "display_name": "Python 3 (ipykernel)",
   "language": "python",
   "name": "python3"
  },
  "language_info": {
   "codemirror_mode": {
    "name": "ipython",
    "version": 3
   },
   "file_extension": ".py",
   "mimetype": "text/x-python",
   "name": "python",
   "nbconvert_exporter": "python",
   "pygments_lexer": "ipython3",
   "version": "3.9.16"
  }
 },
 "nbformat": 4,
 "nbformat_minor": 5
}
