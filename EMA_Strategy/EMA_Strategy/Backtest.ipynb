{
 "cells": [
  {
   "cell_type": "code",
   "execution_count": null,
   "id": "82f7624d",
   "metadata": {},
   "outputs": [],
   "source": [
    "from EMA_utils import *"
   ]
  },
  {
   "cell_type": "code",
   "execution_count": null,
   "id": "68e6fa1f",
   "metadata": {},
   "outputs": [],
   "source": [
    "## Instrument and Time Frame setting\n",
    "symbols=['XAUUSD']\n",
    "intervals=['1 h']\n",
    "\n",
    "######################## Backtesting Settings ########################\n",
    "## \n",
    "capital =100000\n",
    "size= 0.99  \n",
    "fees= .000\n",
    "## Short and Long EMA setting\n",
    "short_ema= 27\n",
    "long_ema= 44\n",
    "\n",
    "## Trend EMA setting\n",
    "use_trend_ema= True\n",
    "trend_ema= 130\n",
    "\n",
    "\n",
    "## SL and TP Setting\n",
    "use_sl= False\n",
    "use_tp= False\n",
    "back_candles= 10\n",
    "reward= 1.5\n",
    "\n",
    "use_exit_emaclose= True ## If True will have additional exit condtion (crossover: Close price and short_ema)\n",
    "\n",
    "\n",
    "## ATR (not included so far)\n",
    "atr_level= 14\n",
    "\n",
    "## Optimization setting \n",
    "optimization= {'optimization':False\n",
    "              ,'short_ema':True, 'long_ema':True, 'trend_ema':True, 'back_candles':True, 'reward':True}\n",
    "maximize='Return [%]'  ## Max. Drawdown [%], Win Rate [%],  Sharpe Ratio, \n",
    "\n",
    "# Define your start and end dates for Backtesting\n",
    "start_date = '2022-03-27'  # Replace with your start date\n",
    "end_date = '2023-03-26'    # Replace with your end date"
   ]
  },
  {
   "cell_type": "code",
   "execution_count": null,
   "id": "08a345c0",
   "metadata": {},
   "outputs": [],
   "source": [
    "if __name__ == \"__main__\":\n",
    "    # Pass parameters to the function\n",
    "    results = run_backtests(\n",
    "        symbols, intervals,  start_date, end_date, capital, size, fees, short_ema, long_ema, trend_ema, use_trend_ema,\n",
    "        atr_level, use_sl, use_tp, back_candles, reward, use_exit_emaclose, optimization, maximize\n",
    "    )\n",
    "\n",
    "    # Process the results as needed"
   ]
  },
  {
   "cell_type": "code",
   "execution_count": null,
   "id": "b3adb5e0",
   "metadata": {},
   "outputs": [],
   "source": [
    "results['XAUUSD','1 h']['input_df']"
   ]
  },
  {
   "cell_type": "code",
   "execution_count": null,
   "id": "bf9fbcf4",
   "metadata": {},
   "outputs": [],
   "source": [
    "results['XAUUSD','1 h']['stats']"
   ]
  },
  {
   "cell_type": "code",
   "execution_count": null,
   "id": "c2c10a5b",
   "metadata": {},
   "outputs": [],
   "source": [
    "trades_=results['XAUUSD','1 h']['trades']"
   ]
  },
  {
   "cell_type": "code",
   "execution_count": null,
   "id": "8ffa87db",
   "metadata": {},
   "outputs": [],
   "source": [
    "trades_[-10:]"
   ]
  },
  {
   "cell_type": "code",
   "execution_count": null,
   "id": "6a7ab33a",
   "metadata": {},
   "outputs": [],
   "source": [
    "results['XAUUSD','1 h']['summary_trades']"
   ]
  },
  {
   "cell_type": "code",
   "execution_count": null,
   "id": "fd05ba48",
   "metadata": {},
   "outputs": [],
   "source": [
    "results['XAUUSD','1 h']['heatmap']"
   ]
  }
 ],
 "metadata": {
  "kernelspec": {
   "display_name": "py310",
   "language": "python",
   "name": "py310"
  },
  "language_info": {
   "codemirror_mode": {
    "name": "ipython",
    "version": 3
   },
   "file_extension": ".py",
   "mimetype": "text/x-python",
   "name": "python",
   "nbconvert_exporter": "python",
   "pygments_lexer": "ipython3",
   "version": "3.10.13"
  }
 },
 "nbformat": 4,
 "nbformat_minor": 5
}
